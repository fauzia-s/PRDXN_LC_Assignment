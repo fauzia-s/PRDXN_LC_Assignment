{
 "cells": [
  {
   "cell_type": "code",
   "execution_count": 74,
   "metadata": {},
   "outputs": [],
   "source": [
    "import numpy as np\n",
    "import sqlite3\n",
    "import pandas as pd\n"
   ]
  },
  {
   "cell_type": "code",
   "execution_count": 90,
   "metadata": {},
   "outputs": [],
   "source": [
    "#1)Data Exploration and Evaluation\n",
    "\n",
    "#Viewing the data through table plus for the database.sqlite db\n",
    "#Listing the columns that are irrelevant  or need cleansing and standardization\n",
    "\n",
    "#Loading data from sqlite table into a pandas dataframe for cleansing\n",
    "\n",
    "df=pd.read_csv('lending-club-loan-data/loan.csv')"
   ]
  },
  {
   "cell_type": "code",
   "execution_count": 91,
   "metadata": {},
   "outputs": [
    {
     "name": "stdout",
     "output_type": "stream",
     "text": [
      "(887383, 75)\n"
     ]
    }
   ],
   "source": [
    "print(df.shape)\n",
    "#Returns(Rows,Columns)"
   ]
  },
  {
   "cell_type": "code",
   "execution_count": 92,
   "metadata": {},
   "outputs": [],
   "source": [
    "# Drop unneccesary columns\n",
    "df = df.drop(['url', 'desc', 'policy_code', 'last_pymnt_d', 'next_pymnt_d', 'earliest_cr_line', 'emp_title','pymnt_plan','policy_code'], axis=1)\n",
    "df = df.drop(['id', 'title', 'total_rec_int', 'total_rec_late_fee', 'total_rec_prncp', 'zip_code'], axis=1)"
   ]
  },
  {
   "cell_type": "code",
   "execution_count": 93,
   "metadata": {},
   "outputs": [
    {
     "name": "stdout",
     "output_type": "stream",
     "text": [
      "(887383, 61)\n"
     ]
    }
   ],
   "source": [
    "print(df.shape)"
   ]
  },
  {
   "cell_type": "code",
   "execution_count": 94,
   "metadata": {},
   "outputs": [
    {
     "data": {
      "text/plain": [
       "array(['RENT', 'OWN', 'MORTGAGE', 'OTHER', 'NONE', None, 'ANY'], dtype=object)"
      ]
     },
     "execution_count": 94,
     "metadata": {},
     "output_type": "execute_result"
    }
   ],
   "source": [
    "#Get unique values for relevant columns to understand the data distribution \n",
    "#Columns: emp_length,loan_status,home_ownership,annual_income\n",
    "\n",
    "df.emp_length.unique()\n",
    "df.loan_status.unique()\n",
    "df.home_ownership.unique()\n"
   ]
  },
  {
   "cell_type": "code",
   "execution_count": 95,
   "metadata": {},
   "outputs": [
    {
     "data": {
      "text/plain": [
       "array([ 11.,   1.,   2.,   4.,   9.,  10.,   5.,   6.,   7.,   3.,   8.,\n",
       "         0.])"
      ]
     },
     "execution_count": 95,
     "metadata": {},
     "output_type": "execute_result"
    }
   ],
   "source": [
    "#Replacing emp_length with integer values instead of string\n",
    "df['emp_length'] = df['emp_length'].apply({'n/a':0,'< 1 year':1,'1 year':2,'2 years':3,'3 years':4,'4 years':5,'5 years':6,'6 years':7,'7 years':8,'8 years':9,'9 years':10,'10+ years':11}.get)\n",
    "#Replacing Nulls with 0\n",
    "df.emp_length=df.emp_length.replace(np.nan,0)\n",
    "df.emp_length.unique()"
   ]
  },
  {
   "cell_type": "code",
   "execution_count": 97,
   "metadata": {},
   "outputs": [
    {
     "data": {
      "text/plain": [
       "array([ 1.,  0.,  2.])"
      ]
     },
     "execution_count": 97,
     "metadata": {},
     "output_type": "execute_result"
    }
   ],
   "source": [
    "df.shape\n"
   ]
  },
  {
   "cell_type": "code",
   "execution_count": 102,
   "metadata": {},
   "outputs": [
    {
     "data": {
      "text/plain": [
       "index                               0\n",
       "member_id                           1\n",
       "loan_amnt                           1\n",
       "funded_amnt                         1\n",
       "funded_amnt_inv                     1\n",
       "term                                1\n",
       "int_rate                            1\n",
       "installment                         1\n",
       "grade                               1\n",
       "sub_grade                           1\n",
       "emp_length                          0\n",
       "home_ownership                      1\n",
       "annual_inc                          5\n",
       "verification_status                 1\n",
       "issue_d                             1\n",
       "loan_status                         1\n",
       "purpose                             1\n",
       "addr_state                          1\n",
       "dti                                 1\n",
       "delinq_2yrs                        30\n",
       "inq_last_6mths                     30\n",
       "mths_since_last_delinq         454314\n",
       "mths_since_last_record         750330\n",
       "open_acc                           30\n",
       "pub_rec                            30\n",
       "revol_bal                           1\n",
       "revol_util                        503\n",
       "total_acc                          30\n",
       "initial_list_status                 1\n",
       "out_prncp                           1\n",
       "                                ...  \n",
       "total_pymnt                         1\n",
       "total_pymnt_inv                     1\n",
       "recoveries                          1\n",
       "collection_recovery_fee             1\n",
       "last_pymnt_amnt                     1\n",
       "last_credit_pull_d                 54\n",
       "collections_12_mths_ex_med        146\n",
       "mths_since_last_major_derog    665679\n",
       "application_type                    0\n",
       "annual_inc_joint               886872\n",
       "dti_joint                      886874\n",
       "verification_status_joint      886872\n",
       "acc_now_delinq                     30\n",
       "tot_coll_amt                    70277\n",
       "tot_cur_bal                     70277\n",
       "open_acc_6m                    866011\n",
       "open_il_6m                     866011\n",
       "open_il_12m                    866011\n",
       "open_il_24m                    866011\n",
       "mths_since_rcnt_il             866573\n",
       "total_bal_il                   866011\n",
       "il_util                        868766\n",
       "open_rv_12m                    866011\n",
       "open_rv_24m                    866011\n",
       "max_bal_bc                     866011\n",
       "all_util                       866011\n",
       "total_rev_hi_lim                70277\n",
       "inq_fi                         866011\n",
       "total_cu_tl                    866011\n",
       "inq_last_12m                   866011\n",
       "dtype: int64"
      ]
     },
     "execution_count": 102,
     "metadata": {},
     "output_type": "execute_result"
    }
   ],
   "source": [
    "df.isnull().sum()"
   ]
  },
  {
   "cell_type": "code",
   "execution_count": null,
   "metadata": {},
   "outputs": [],
   "source": [
    "#Drop fields with more than 80% of null values\n",
    "\n",
    "df = df.drop(['mths_since_last_delinq'\n",
    ",'mths_since_last_record'\n",
    ",'mths_since_last_major_derog'\n",
    ",'annual_inc_joint'             \n",
    ",'dti_joint'                    \n",
    ",'verification_status_joint'\n",
    ",'open_acc_6m'\n",
    ",'open_il_6m'                   \n",
    ",'open_il_12m'                  \n",
    ",'open_il_24m'                  \n",
    ",'mths_since_rcnt_il'          \n",
    ",'total_bal_il'                 \n",
    ",'il_util'                      \n",
    ",'open_rv_12m'                  \n",
    ",'open_rv_24m'                  \n",
    ",'max_bal_bc'                   \n",
    ",'all_util'                     \n",
    ",'inq_fi'                       \n",
    ",'total_cu_tl'                  \n",
    ",'inq_last_12m'], axis=1)"
   ]
  },
  {
   "cell_type": "code",
   "execution_count": null,
   "metadata": {},
   "outputs": [],
   "source": [
    "#DOwnloading the data frame as a csv file to create a tableau vizualization\n",
    "\n",
    "df.to_csv('part1.csv')"
   ]
  }
 ],
 "metadata": {
  "kernelspec": {
   "display_name": "Python 3",
   "language": "python",
   "name": "python3"
  },
  "language_info": {
   "codemirror_mode": {
    "name": "ipython",
    "version": 3
   },
   "file_extension": ".py",
   "mimetype": "text/x-python",
   "name": "python",
   "nbconvert_exporter": "python",
   "pygments_lexer": "ipython3",
   "version": "3.6.0"
  }
 },
 "nbformat": 4,
 "nbformat_minor": 2
}
